{
 "cells": [
  {
   "cell_type": "code",
   "execution_count": null,
   "id": "57824b47",
   "metadata": {},
   "outputs": [],
   "source": [
    "#assignment1\n",
    "\n",
    "1.  values are \"hello\",-87.8,6,  expressions are *,-,/,+.\n",
    "\n",
    "2.variable is something that holds a value that may change.we can think of empty box that you fill with some data or value. eg-ineuron=3.\n",
    "  strings are data so we can use them to fill up a variable.eg - ineuron=3 in the above example ineuron is variable and the number 3 is string.\n",
    "\n",
    "    \n",
    "3.In python we have built-in data types \n",
    "  numeric\n",
    "  set\n",
    "  dictionary\n",
    "    \n",
    "  NUMERIC: In python numeric data type represent the data which has numeric value.numeric value can be integer,floating number or complex numbers.these values are defined as int,float and complex.\n",
    "           a=5  it is integer\n",
    "           a=5.0  it is float\n",
    "           a=2+3j it is complex\n",
    "        \n",
    "\n",
    "  set:set is an unordered collection of data type that is iterable,mutable and has no duplicate elements.set can be created by using the built-in set()\n",
    "      function with an iterable object or a sequence by placing the sequence inside curly braces ,seperated by \"comma\".\n",
    "         eg:set{\"f\",\"2\",\"4\",\"6\"}\n",
    "                \n",
    "\n",
    "  Dictionary:it is an unordered collection of data values,used to store data values like map,which unlike other data types that hold only single value as an element,dictionary holds key:value pair.\n",
    "              each key value pair in a dictionary is seperated by a colon:,where as each key is separted by a \"comma\".\n",
    "                eg:{1 : [1,2,3,4], \"Name\":\"ineuron\"}\n",
    "                    \n",
    "                    \n",
    "4.A combination of operands and operators is called an expression. The expression in Python produces some value or result after being interpreted by the Python interpreter. An expression in Python is a combination of operators and operands.\n",
    "\n",
    "An example of expression can be : \n",
    "�\n",
    "=\n",
    "�\n",
    "+\n",
    "1\n",
    "0\n",
    "x=x+10. In this expression, the first \n",
    "1\n",
    "0\n",
    "10 is added to the variable x. After the addition is performed, the result is assigned to the variable x.\n",
    "\n",
    "Example : x = 25          # a statement\n",
    "          x = x + 10      # an expression\n",
    "          print(x)\n",
    "  \n",
    "  output:35                 \n",
    "5. Expressions can be assigned or used as operands, while statements can only be declared.\n",
    "   Statements create side effects to be useful, while expressions are values or execute to values.\n",
    "  Expressions are unique in meaning, while statements are two-sided in execution. For example, 1 has a certain value while go( ) may be executed or not.\n",
    "  Statements are the whole structure, while expressions are the building blocks. For example, a line or a block of code is a statement.\n",
    "\n",
    "6.\n"
   ]
  },
  {
   "cell_type": "code",
   "execution_count": 2,
   "id": "91f4c853",
   "metadata": {},
   "outputs": [
    {
     "name": "stdout",
     "output_type": "stream",
     "text": [
      "22\n"
     ]
    }
   ],
   "source": [
    "#6\n",
    "bacon=22\n",
    "bacon+1\n",
    "print(bacon)"
   ]
  },
  {
   "cell_type": "code",
   "execution_count": 3,
   "id": "395a7a91",
   "metadata": {},
   "outputs": [
    {
     "data": {
      "text/plain": [
       "'spamspamspam'"
      ]
     },
     "execution_count": 3,
     "metadata": {},
     "output_type": "execute_result"
    }
   ],
   "source": [
    "#7\n",
    "'spam'+'spamspam'"
   ]
  },
  {
   "cell_type": "code",
   "execution_count": 4,
   "id": "b3fecc5d",
   "metadata": {},
   "outputs": [
    {
     "data": {
      "text/plain": [
       "'spamspamspam'"
      ]
     },
     "execution_count": 4,
     "metadata": {},
     "output_type": "execute_result"
    }
   ],
   "source": [
    "#7\n",
    "'spam'*3"
   ]
  },
  {
   "cell_type": "code",
   "execution_count": null,
   "id": "ba1307cb",
   "metadata": {},
   "outputs": [],
   "source": [
    "#8\n",
    "because variable names cannot begin with python.\n"
   ]
  },
  {
   "cell_type": "code",
   "execution_count": null,
   "id": "09b2c2de",
   "metadata": {},
   "outputs": [],
   "source": [
    "#9\n",
    "The int(), float(), and str() functions will evaluate to the integer, floating-point number, and string versions of the value passed to them.\n",
    "\n"
   ]
  },
  {
   "cell_type": "code",
   "execution_count": null,
   "id": "2102023b",
   "metadata": {},
   "outputs": [],
   "source": [
    "#10\n",
    "The expression causes an error because 99 is an integer, and only strings can be concatenated to other strings with the + operator. "
   ]
  },
  {
   "cell_type": "code",
   "execution_count": null,
   "id": "9535dfd2",
   "metadata": {},
   "outputs": [],
   "source": []
  },
  {
   "cell_type": "code",
   "execution_count": null,
   "id": "22a355e8",
   "metadata": {},
   "outputs": [],
   "source": [
    "\n",
    "\n",
    "\n"
   ]
  }
 ],
 "metadata": {
  "kernelspec": {
   "display_name": "Python 3 (ipykernel)",
   "language": "python",
   "name": "python3"
  },
  "language_info": {
   "codemirror_mode": {
    "name": "ipython",
    "version": 3
   },
   "file_extension": ".py",
   "mimetype": "text/x-python",
   "name": "python",
   "nbconvert_exporter": "python",
   "pygments_lexer": "ipython3",
   "version": "3.9.13"
  }
 },
 "nbformat": 4,
 "nbformat_minor": 5
}
